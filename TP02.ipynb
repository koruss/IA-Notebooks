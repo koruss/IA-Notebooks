{
 "cells": [
  {
   "cell_type": "markdown",
   "metadata": {},
   "source": []
  },
  {
   "cell_type": "markdown",
   "metadata": {
    "colab_type": "text",
    "id": "TGvdZZ7C16o5"
   },
   "source": [
    "### Instituto Tecnológico de Costa Rica (ITCR)\n",
    "### Escuela de Computación\n",
    "### Curso: Inteligencia Artificial\n",
    " \n",
    "### Segunda tarea programada 2022-I\n",
    "\n",
    "\n",
    "Profesora: María Auxiliadora Mora\n",
    "\n",
    "Medio de entrega: Por medio del TEC-Digital.\n",
    "\n",
    "Entregables: Un archivo en Jupyter ( .IPYNB ). \n",
    "\n",
    "Modo de trabajo: Individual o en grupos de máximo dos personas.\n",
    "\n",
    "---\n",
    "\n",
    "\n",
    "Objetivo: En el presente trabajo se repasarán conceptos elementales respecto a optimización, aprendizaje profundo y regresión.\n",
    "\n",
    "\n",
    "**Rúbrica:**\n",
    "- **Todas las secciones del código deben estar debidamente documentadas (5 puntos).**\n",
    "- **Deben incluir las referencias del material utilizado (3 puntos)**\n",
    "- **No deben tener errores de redacción u ortografía. (2 puntos)**\n",
    "- **El resto de la rúbrica está incluida en las definición de los ejercicios.**\n",
    "\n",
    "---\n"
   ]
  },
  {
   "cell_type": "code",
   "execution_count": 1,
   "metadata": {},
   "outputs": [],
   "source": [
    "# Imports\n",
    "import numpy as np\n",
    "import matplotlib.pyplot as plt\n",
    "import math\n",
    "import pandas as pd\n",
    "import seaborn as sns"
   ]
  },
  {
   "cell_type": "markdown",
   "metadata": {},
   "source": [
    "## Pregunta 1. Graficación\n",
    "\n",
    "---\n",
    "\n",
    "Para las siguientes:\n",
    "\n",
    "Función 1:\n",
    "\n",
    "$f_{1}\\left(x_{1},x_{2}\\right)=\\left(x_{1}-0.7\\right)^{2}+\\left(x_{2}-0.5\\right)^{2}$\n",
    "\n",
    "\n",
    "Función 2: \n",
    "\n",
    "$f_{2}\\left(x_{1},x_{2}\\right)=x_{1}e^{\\left(-x_{1}^{2}-x_{2}^{2}\\right)}$\n",
    "\n",
    "\n",
    "Realice lo siguiente (5 puntos):\n",
    "\n",
    "En Python, cree una función que le permita graficar las funciones anteriores. Utilizando la función en Python genere dos gráficos, uno para cada función $𝑓_{1}$ y  $𝑓_{2}$. "
   ]
  },
  {
   "cell_type": "markdown",
   "metadata": {},
   "source": [
    "## Pregunta 2. Optimización\n",
    "---"
   ]
  },
  {
   "cell_type": "markdown",
   "metadata": {},
   "source": [
    "**a) Vector gradiente  (5 puntos)**\n",
    "\n",
    "Calcule el vector gradiente $\\nabla f$ para la siguiente función multi-variable $f: \\mathbb{R}^2\\rightarrow\\mathbb{R}$. Además, evalúelo en $\\begin{bmatrix}1\\\\1\\end{bmatrix}$ y $\\begin{bmatrix}-1\\\\-1\\end{bmatrix}$. \n",
    "\n",
    "--No se require programación en python--.\n",
    "\n",
    " - $f_3(x,y) = x^4+y^3+5x^2y^3$\n",
    " \n"
   ]
  },
  {
   "cell_type": "markdown",
   "metadata": {},
   "source": [
    "**b) Descenso de gradiente (10 puntos)**\n",
    "\n",
    "**Sea la función:** \n",
    "\n",
    "\\begin{equation}\n",
    "f_4\\left(\\overrightarrow{x}\\right)=(x-0.7)^{2}+(y-0.5)^{2},\n",
    "\\end{equation}\n",
    "\n",
    "\n",
    "**Implemente el algoritmo de descenso de gradiente para $f_4(x)$ en la función en Python denominada: (8 puntos)**\n",
    "\n",
    "$$funcion\\_gradient\\_descent \\left(learning\\_rate, max\\_iters, starting\\_point, f\\_function,f\\_gradient, precision\\right)$$\n",
    "\n",
    "donde los parámetros corresponden a:\n",
    "\n",
    "* learning_rate: tasa_aprendizaje o el $\\alpha$\n",
    "* max_iters: es el máximo número de iteraciones a ejecutar\n",
    "* starting_point: es el vector con los dos valores iniciales [x,y]\n",
    "* f_function: fución a optimizar\n",
    "* f_gradient: gradiente de la función a optimizar.\n",
    "* precision: es el valor mínimo para un cambio entre iteración. \n",
    "\n",
    "Despliegue y analice los resultados (2 puntos).\n"
   ]
  },
  {
   "cell_type": "markdown",
   "metadata": {},
   "source": [
    "## Pregunta 3. Análisis de regresión con aprendizaje profundo (con PyTorch)"
   ]
  },
  {
   "cell_type": "markdown",
   "metadata": {},
   "source": [
    "Para realizar el análisis se utilizará un conjunto de datos generado por la Facultad de Ciencias de la Información y la Computación Donald Bren de la Universidad de California en Irvine disponibles en https://www.kaggle.com/rodolfomendes/abalone-dataset (copia adjunta).   \n",
    "\n",
    "Descripción de los datos:\n",
    "El conjunto de datos puede ser utilizado para entrenar modelos para predecir la edad de los abulones (moluscos también conocidos como orejas de mar) a partir de mediciones físicas. Comúnmente, la edad de un abulón se determina cortando la concha a través del cono, tiñéndola y contando el número de anillos a través de un microscópio, una tarea que requiere mucho tiempo. Sin embargo, es posible utilizar datos morfológicos del individuo, que son más fáciles de obtener y permiten predecir la edad este. Una descripción detallada de los datos está disponible en https://archive.ics.uci.edu/ml/datasets/abalone. \n",
    "\n",
    "Dado el conjunto de datos de abulones se **desea crear un modelo de regresión utilizando un perceptrón multicapa para predecir la cantidad de anillos (columna Rings) de estos a partir del conjunto de características**.\n",
    "\n",
    "Realice lo siguiente:\n",
    "\n",
    "(requisito indispensable para tomar en cuenta el ejercicio, deben usar PyTorch).\n",
    "- a) (1 punto) Describa el conjunto de datos, cada uno de sus campos y referencie la fuente. \n",
    "- b) Cargue el conjunto de datos.\n",
    "- c) (3 puntos) Explore y limpie el conjunto de datos, visualice algunas estadísticas, presente una matriz de calor y verifique que no existan valores faltantes.\n",
    "- d) (5 puntos) Defina el modelo utilizando un perceptrón multicapa implementado con PyTorch.\n",
    "- e) (5 puntos) Realice el entrenamiento del modelo.\n",
    "- f) (5 puntos) Calcule la pérdida utilizando el error cuadrático medio.\n",
    "- g) (2 puntos) Prepare un ejemplo de uso del modelo seleccionado y explique el resultado.\n",
    "- h) (5 puntos) Realice al menos tres conclusiones sobre el ejercicio.\n"
   ]
  },
  {
   "cell_type": "markdown",
   "metadata": {},
   "source": [
    "a) \n",
    "Los datos describen la morfologia de una especie de molusco llamados abulones, los datos pretenden relacionar y predecir la edad de los abulones en base en los anillos que tienen,\n",
    "los datos que tenemos son diametro  \n"
   ]
  },
  {
   "cell_type": "code",
   "execution_count": 30,
   "metadata": {
    "scrolled": false
   },
   "outputs": [
    {
     "data": {
      "text/html": [
       "<div>\n",
       "<style scoped>\n",
       "    .dataframe tbody tr th:only-of-type {\n",
       "        vertical-align: middle;\n",
       "    }\n",
       "\n",
       "    .dataframe tbody tr th {\n",
       "        vertical-align: top;\n",
       "    }\n",
       "\n",
       "    .dataframe thead th {\n",
       "        text-align: right;\n",
       "    }\n",
       "</style>\n",
       "<table border=\"1\" class=\"dataframe\">\n",
       "  <thead>\n",
       "    <tr style=\"text-align: right;\">\n",
       "      <th></th>\n",
       "      <th>Diameter</th>\n",
       "      <th>Height</th>\n",
       "      <th>Whole</th>\n",
       "      <th>Viscera</th>\n",
       "      <th>Shellweight</th>\n",
       "      <th>Rings</th>\n",
       "    </tr>\n",
       "    <tr>\n",
       "      <th>Length</th>\n",
       "      <th></th>\n",
       "      <th></th>\n",
       "      <th></th>\n",
       "      <th></th>\n",
       "      <th></th>\n",
       "      <th></th>\n",
       "    </tr>\n",
       "  </thead>\n",
       "  <tbody>\n",
       "    <tr>\n",
       "      <th>0.745</th>\n",
       "      <td>0.585</td>\n",
       "      <td>0.215</td>\n",
       "      <td>2.4990</td>\n",
       "      <td>0.4720</td>\n",
       "      <td>0.700</td>\n",
       "      <td>17</td>\n",
       "    </tr>\n",
       "    <tr>\n",
       "      <th>0.740</th>\n",
       "      <td>0.600</td>\n",
       "      <td>0.195</td>\n",
       "      <td>1.9740</td>\n",
       "      <td>0.4085</td>\n",
       "      <td>0.710</td>\n",
       "      <td>16</td>\n",
       "    </tr>\n",
       "    <tr>\n",
       "      <th>0.735</th>\n",
       "      <td>0.590</td>\n",
       "      <td>0.225</td>\n",
       "      <td>1.7560</td>\n",
       "      <td>0.3405</td>\n",
       "      <td>0.580</td>\n",
       "      <td>21</td>\n",
       "    </tr>\n",
       "    <tr>\n",
       "      <th>0.730</th>\n",
       "      <td>0.595</td>\n",
       "      <td>0.230</td>\n",
       "      <td>2.8255</td>\n",
       "      <td>0.4190</td>\n",
       "      <td>0.897</td>\n",
       "      <td>17</td>\n",
       "    </tr>\n",
       "    <tr>\n",
       "      <th>0.725</th>\n",
       "      <td>0.560</td>\n",
       "      <td>0.210</td>\n",
       "      <td>2.1410</td>\n",
       "      <td>0.3980</td>\n",
       "      <td>1.005</td>\n",
       "      <td>18</td>\n",
       "    </tr>\n",
       "  </tbody>\n",
       "</table>\n",
       "</div>"
      ],
      "text/plain": [
       "        Diameter  Height   Whole  Viscera  Shellweight  Rings\n",
       "Length                                                       \n",
       "0.745      0.585   0.215  2.4990   0.4720        0.700     17\n",
       "0.740      0.600   0.195  1.9740   0.4085        0.710     16\n",
       "0.735      0.590   0.225  1.7560   0.3405        0.580     21\n",
       "0.730      0.595   0.230  2.8255   0.4190        0.897     17\n",
       "0.725      0.560   0.210  2.1410   0.3980        1.005     18"
      ]
     },
     "execution_count": 30,
     "metadata": {},
     "output_type": "execute_result"
    }
   ],
   "source": [
    "#b)\n",
    "df1 = pd.read_csv('./datos/abalone.csv', index_col=0)\n",
    "df1.head()\n"
   ]
  },
  {
   "cell_type": "code",
   "execution_count": 40,
   "metadata": {},
   "outputs": [
    {
     "name": "stdout",
     "output_type": "stream",
     "text": [
      "         Diameter      Height       Whole     Viscera  Shellweight  \\\n",
      "count  987.000000  987.000000  987.000000  987.000000   987.000000   \n",
      "mean     0.383678    0.133131    0.712899    0.155166     0.218105   \n",
      "std      0.101893    0.039270    0.454114    0.097596     0.144131   \n",
      "min      0.055000    0.010000    0.002000    0.000500     0.001500   \n",
      "25%      0.322500    0.105000    0.354500    0.074000     0.105000   \n",
      "50%      0.400000    0.135000    0.663000    0.146000     0.200000   \n",
      "75%      0.455000    0.160000    0.996500    0.220250     0.305000   \n",
      "max      0.600000    0.240000    2.825500    0.541000     1.005000   \n",
      "\n",
      "             Rings  \n",
      "count   987.000000  \n",
      "mean     19.567376  \n",
      "std     290.580810  \n",
      "min   -1300.000000  \n",
      "25%       8.000000  \n",
      "50%      10.000000  \n",
      "75%      13.000000  \n",
      "max    9000.000000  \n"
     ]
    },
    {
     "data": {
      "image/png": "[encoded data removed]",
      "text/plain": [
       "<Figure size 1080x720 with 2 Axes>"
      ]
     },
     "metadata": {
      "needs_background": "light"
     },
     "output_type": "display_data"
    }
   ],
   "source": [
    "# c)\n",
    "\n",
    "#  # limpieza de datos \n",
    "#df1 = df1[pd.notnull(df1['Length'])]\n",
    "df1 = df1[pd.notnull(df1['Diameter'])]\n",
    "df1 = df1[pd.notnull(df1['Height'])]\n",
    "df1 = df1[pd.notnull(df1['Whole'])]\n",
    "df1 = df1[pd.notnull(df1['Viscera'])]\n",
    "df1 = df1[pd.notnull(df1['Shellweight'])]\n",
    "df1 = df1[pd.notnull(df1['Rings'])]\n",
    "\n",
    "#df1= df1[df1['Length'] != 0]\n",
    "df1= df1[df1['Diameter'] != 0]\n",
    "df1= df1[df1['Height'] != 0]\n",
    "df1= df1[df1['Whole'] != 0]\n",
    "df1= df1[df1['Viscera'] != 0]\n",
    "df1= df1[df1['Shellweight'] != 0]\n",
    "\n",
    "\n",
    "\n",
    "# a = df1.loc[~df1.index.duplicated(), :]# eliminamos los indices repetidos\n",
    "# print(a)\n",
    "\n",
    "\n",
    "\n",
    "def statistics(data):\n",
    "    stat = data.describe()\n",
    "    print(stat)\n",
    "\n",
    "\n",
    "\n",
    "def mapaCalor(df1):\n",
    "    _,ax=plt.subplots(figsize=(15,10))\n",
    "    #colormap=sns.diverging_palette(115,255,as_cmap=True)\n",
    "    sns.heatmap(df1.corr(),annot=True,cmap=\"coolwarm\")\n",
    "\n",
    "statistics(df1)\n",
    "\n",
    "mapaCalor(df1)"
   ]
  },
  {
   "cell_type": "code",
   "execution_count": null,
   "metadata": {},
   "outputs": [],
   "source": [
    "#d)\n",
    "\n",
    "\n",
    "\n",
    "\n"
   ]
  },
  {
   "cell_type": "markdown",
   "metadata": {},
   "source": [
    "## Pregunta 4. Ajuste de curvas con mínimos cuadrados.\n",
    "(requisito indispensable para tomar en cuenta el ejercicio, deben usar tensores de PyTorch).\n",
    "- a) (5 puntos) Calcule el $w_{opt}$ (el w óptimo) para los datos de los abulones. \n",
    "- b) (5 puntos) Implemente la función forward, la cual estima las salidas del modelo al hacer  $f(x) =X\\,\\vec{w}_{opt}$ donde la función f(x) se refiere a la función de activación, con X la matriz de características.\n",
    "- c) (5 puntos) Calcule la pérdida utilizando el error cuadrático medio.\n",
    "- d) (3 puntos) Realice al menos tres conclusiones sobre el ejercicio."
   ]
  },
  {
   "cell_type": "markdown",
   "metadata": {},
   "source": [
    "## Pregunta 5. Implemente un perceptrón de una capa \n",
    "\n",
    "(requisito indispensable para tomar en cuenta el ejercicio, deben usar tensores de PyTorch).\n",
    "\n",
    "- a)(10 puntos) Implemente el algoritmo del perceptrón de una capa rescindiendo al máximo de estructuras de tipo for, usando en su lugar operaciones matriciales. Debe implementarlo sin utilizar ninguna biblioteca, es decir en PyTorch no se puede usar ninguna clase o funcionalidad desarrollada por PyTorch o alguna otra biblioteca.\n",
    "- b)(5 puntos) Utilice el perceptrón desarrollado en a) para realizar regresión con los datos de los abulones.\n",
    "- c) (3 puntos) Realice al menos tres conclusiones sobre el ejercicio."
   ]
  },
  {
   "cell_type": "code",
   "execution_count": null,
   "metadata": {},
   "outputs": [],
   "source": []
  }
 ],
 "metadata": {
  "colab": {
   "collapsed_sections": [],
   "name": "Quiz_1_Matemática_para_ciencia_de_los_datos.ipynb",
   "provenance": []
  },
  "kernelspec": {
   "display_name": "Python 3 (ipykernel)",
   "language": "python",
   "name": "python3"
  },
  "language_info": {
   "codemirror_mode": {
    "name": "ipython",
    "version": 3
   },
   "file_extension": ".py",
   "mimetype": "text/x-python",
   "name": "python",
   "nbconvert_exporter": "python",
   "pygments_lexer": "ipython3",
   "version": "3.10.4"
  }
 },
 "nbformat": 4,
 "nbformat_minor": 4
}
