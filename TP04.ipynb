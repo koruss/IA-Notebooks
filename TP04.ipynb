{
 "cells": [
  {
   "cell_type": "markdown",
   "metadata": {},
   "source": [
    "# Instituto Tecnologico de Costa Rica\n",
    "# Ingenieria en Computacion\n",
    "# Inteligencia artificial\n",
    "---\n",
    "## Tarea Programada 4\n",
    "## Profesora : Maria Auxiliadora Mora\n",
    "---\n",
    "## Estudiantes:\n",
    "## Kenneth Corrales Lizano 2017151342\n",
    "## Fabian Vives Castro 2018319257\n",
    "---\n"
   ]
  },
  {
   "cell_type": "code",
   "execution_count": null,
   "metadata": {},
   "outputs": [],
   "source": [
    "# Bibliotecas\n"
   ]
  }
 ],
 "metadata": {
  "language_info": {
   "name": "python"
  },
  "orig_nbformat": 4
 },
 "nbformat": 4,
 "nbformat_minor": 2
}
