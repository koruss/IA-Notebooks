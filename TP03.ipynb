{
 "cells": [
  {
   "cell_type": "markdown",
   "metadata": {},
   "source": [
    "# Instituto Tecnologico de Costa Rica\n",
    "# Ingenieria en Computacion\n",
    "# Inteligencia artificial \n",
    "--- \n",
    "## Tarea Programada 3 \n",
    "## Profesora : Maria Auxialiadora Mora\n",
    "---\n",
    "## Estudiantes: \n",
    "## Kenneth Corrales Lizano 2017151342\n",
    "## Fabian Vives Castro 2018319257\n",
    "---"
   ]
  },
  {
   "cell_type": "code",
   "execution_count": 89,
   "metadata": {},
   "outputs": [],
   "source": [
    "#Bibliotecas\n",
    "import pandas as pd\n",
    "import numpy as np\n",
    "import torch\n",
    "import torch.nn as nn\n",
    "import re\n",
    "import string\n",
    "\n",
    "#Bibliotecas Ejemplo 2\n",
    "from collections import Counter\n",
    "from torch.utils.data import Dataset, DataLoader\n",
    "import spacy\n",
    "from sklearn.model_selection import train_test_split\n",
    "from torch.nn.utils.rnn import pack_padded_sequence, pad_packed_sequence\n",
    "from sklearn.metrics import mean_squared_error\n",
    "from sklearn.metrics import confusion_matrix\n",
    "\n",
    "import matplotlib.pyplot as plt\n"
   ]
  },
  {
   "cell_type": "markdown",
   "metadata": {},
   "source": [
    "&nbsp;\n",
    "\n",
    "# Ejercicio 1"
   ]
  },
  {
   "cell_type": "markdown",
   "metadata": {},
   "source": [
    "### Describa el problema y el objetivo del ejercicio"
   ]
  },
  {
   "cell_type": "markdown",
   "metadata": {},
   "source": [
    "### Describa los datos utilizados en el ejercicio"
   ]
  },
  {
   "cell_type": "markdown",
   "metadata": {},
   "source": [
    "### Cargue, normalice y explore los datos"
   ]
  },
  {
   "cell_type": "markdown",
   "metadata": {},
   "source": []
  },
  {
   "cell_type": "markdown",
   "metadata": {},
   "source": [
    "\n",
    "&nbsp;\n",
    "# Ejercicio 2"
   ]
  },
  {
   "cell_type": "markdown",
   "metadata": {},
   "source": [
    "### 1. \n",
    "Describa el problema y el objetivo del ejercicio.\n",
    "\n",
    "A la hora de comprar un producto, ir a algun lugar, realizar alguna actividad..., basamos ya sea consiente o inconscientemente nuestras decisiones en base a opiniones externas, es por esto que muchas companias toman en especial cuidado el como lo ven sus consumidores ya que estos son los que posteriormente agregaran nueva clientela. Es por esto que es de suma importancia tener la calificacion y la informacion de los consumidores, para tomar decisiones al respecto de que esta bien, que es mejor cambiar asi como ideas de donde innovar. Ahora bien puesto que leer miles o millones de criticas redactadas en texto no es una tarea tan rapida, acudimos  a la tecnologia, en este caso en especifico a un algoritmo de procesamiento de lenguaje natural llamado analisis de sentimiento, en el que a groso modo, pretende clasificar cada critica  en clases definidas por el investigador, a fin de en una manera rapida, conocer los promedios de que tan satisfecho/insatisfecho se encuentran los usuarios de la plataforma tripadvisor en este caso."
   ]
  },
  {
   "cell_type": "markdown",
   "metadata": {},
   "source": [
    "### 2. Describa los datos utilizados en el ejercicio.\n",
    "\n",
    "Como se esbozo anteriormente, se van a analizar una recopilacion de las criticas a los hoteles que se encuentran en la plataforma tripadvisor, este dataset consta de 2 columnas unicamente, la primera se refiere al detalle de la critica, es decir una breve descripcion de la misma, la segunda es un valor de estrellas del 1 al 5. La cantidad de filas es ligeramente superior a los 20 mil records.\n",
    "\n"
   ]
  },
  {
   "cell_type": "markdown",
   "metadata": {},
   "source": [
    "### 3. Cargue y prepare los datos para ser introducidos a la red LSTM."
   ]
  },
  {
   "cell_type": "code",
   "execution_count": 71,
   "metadata": {},
   "outputs": [
    {
     "name": "stdout",
     "output_type": "stream",
     "text": [
      "Tenemos 20491 filas  y 2 columnas: el review y el rating\n"
     ]
    },
    {
     "data": {
      "text/html": [
       "<div>\n",
       "<style scoped>\n",
       "    .dataframe tbody tr th:only-of-type {\n",
       "        vertical-align: middle;\n",
       "    }\n",
       "\n",
       "    .dataframe tbody tr th {\n",
       "        vertical-align: top;\n",
       "    }\n",
       "\n",
       "    .dataframe thead th {\n",
       "        text-align: right;\n",
       "    }\n",
       "</style>\n",
       "<table border=\"1\" class=\"dataframe\">\n",
       "  <thead>\n",
       "    <tr style=\"text-align: right;\">\n",
       "      <th></th>\n",
       "      <th>Review</th>\n",
       "      <th>Rating</th>\n",
       "    </tr>\n",
       "  </thead>\n",
       "  <tbody>\n",
       "    <tr>\n",
       "      <th>0</th>\n",
       "      <td>nice hotel expensive parking got good deal sta...</td>\n",
       "      <td>4</td>\n",
       "    </tr>\n",
       "    <tr>\n",
       "      <th>1</th>\n",
       "      <td>ok nothing special charge diamond member hilto...</td>\n",
       "      <td>2</td>\n",
       "    </tr>\n",
       "    <tr>\n",
       "      <th>2</th>\n",
       "      <td>nice rooms not 4* experience hotel monaco seat...</td>\n",
       "      <td>3</td>\n",
       "    </tr>\n",
       "    <tr>\n",
       "      <th>3</th>\n",
       "      <td>unique, great stay, wonderful time hotel monac...</td>\n",
       "      <td>5</td>\n",
       "    </tr>\n",
       "    <tr>\n",
       "      <th>4</th>\n",
       "      <td>great stay great stay, went seahawk game aweso...</td>\n",
       "      <td>5</td>\n",
       "    </tr>\n",
       "    <tr>\n",
       "      <th>5</th>\n",
       "      <td>love monaco staff husband stayed hotel crazy w...</td>\n",
       "      <td>5</td>\n",
       "    </tr>\n",
       "    <tr>\n",
       "      <th>6</th>\n",
       "      <td>cozy stay rainy city, husband spent 7 nights m...</td>\n",
       "      <td>5</td>\n",
       "    </tr>\n",
       "    <tr>\n",
       "      <th>7</th>\n",
       "      <td>excellent staff, housekeeping quality hotel ch...</td>\n",
       "      <td>4</td>\n",
       "    </tr>\n",
       "    <tr>\n",
       "      <th>8</th>\n",
       "      <td>hotel stayed hotel monaco cruise, rooms genero...</td>\n",
       "      <td>5</td>\n",
       "    </tr>\n",
       "    <tr>\n",
       "      <th>9</th>\n",
       "      <td>excellent stayed hotel monaco past w/e delight...</td>\n",
       "      <td>5</td>\n",
       "    </tr>\n",
       "  </tbody>\n",
       "</table>\n",
       "</div>"
      ],
      "text/plain": [
       "                                              Review  Rating\n",
       "0  nice hotel expensive parking got good deal sta...       4\n",
       "1  ok nothing special charge diamond member hilto...       2\n",
       "2  nice rooms not 4* experience hotel monaco seat...       3\n",
       "3  unique, great stay, wonderful time hotel monac...       5\n",
       "4  great stay great stay, went seahawk game aweso...       5\n",
       "5  love monaco staff husband stayed hotel crazy w...       5\n",
       "6  cozy stay rainy city, husband spent 7 nights m...       5\n",
       "7  excellent staff, housekeeping quality hotel ch...       4\n",
       "8  hotel stayed hotel monaco cruise, rooms genero...       5\n",
       "9  excellent stayed hotel monaco past w/e delight...       5"
      ]
     },
     "execution_count": 71,
     "metadata": {},
     "output_type": "execute_result"
    }
   ],
   "source": [
    "DEBUG = 0\n",
    "path= \"tripadvisor_hotel_reviews.csv\"\n",
    "raw_data =pd.read_csv(path)\n",
    "\n",
    "# podemos ver las dimensiones de la informacion\n",
    "print(f\"Tenemos {raw_data.shape[0]} filas  y {raw_data.shape[1]} columnas: el review y el rating\")\n",
    "# una visualizacion de las primeras filas de la data\n",
    "raw_data.head(10)"
   ]
  },
  {
   "cell_type": "code",
   "execution_count": 72,
   "metadata": {},
   "outputs": [],
   "source": [
    "#Checamos si hay Nulos y los remplazamos con \n",
    "raw_data['Review'] = raw_data['Review'].fillna('')\n",
    "raw_data['Rating'] = raw_data['Rating'].fillna('')"
   ]
  },
  {
   "cell_type": "code",
   "execution_count": 73,
   "metadata": {},
   "outputs": [
    {
     "name": "stdout",
     "output_type": "stream",
     "text": [
      "Cantidad de registros antes de la limpieza (20491, 2)\n",
      "Cantidad de registros después de la limpieza (20491, 3)\n"
     ]
    }
   ],
   "source": [
    "\n",
    "# Segun un chequeo general del documento parece que la data no tiene espacios nulos o vacios sin embargo, \n",
    "# puesto que son 20mil lineas lo mejor es que el sistema lo haga por nosotros\n",
    "print(\"Cantidad de registros antes de la limpieza\", raw_data.shape)\n",
    "# iniciamos la variable de la data \n",
    "parsed_data = raw_data\n",
    "# Creamos una variable con la informacion una vez parseada \n",
    "parsed_data['Review_Length'] = parsed_data['Review'].apply(lambda x: len(x.split()))\n",
    "parsed_data = parsed_data[parsed_data['Review_Length'] != 0]\n",
    "parsed_data = parsed_data[pd.notnull(parsed_data['Rating'])]\n",
    "parsed_data = parsed_data[parsed_data['Rating'] != 0]\n",
    "print(\"Cantidad de registros después de la limpieza\", raw_data.shape)"
   ]
  },
  {
   "cell_type": "code",
   "execution_count": 74,
   "metadata": {},
   "outputs": [],
   "source": [
    "# Se debe crear el vocabulario pues es de lo que se va a alimentar principalmente la RNN\n",
    "#puesto que \n",
    "tok = spacy.blank(\"en\")\n",
    "from spacy.lang.en import English\n",
    "\n",
    "nlp = English()\n",
    "from spacy.lang.en.stop_words import STOP_WORDS\n",
    "# Tokenize se encarga de convertir la linea de la critica en un set de tokens es decir separa las oraciones en palabras\n",
    "def tokenize (text):\n",
    "    text = re.sub(r\"[^\\x00-\\x7F]+\", \" \", text)\n",
    "    regex = re.compile('[' + re.escape(string.punctuation) + '0-9\\\\r\\\\t\\\\n]') # remove punctuation and numbers\n",
    "    nopunct = regex.sub(\" \", text.lower())\n",
    "    if(DEBUG):\n",
    "        print(nopunct)\n",
    "    # Eliminamos los stopwords, para mejorar el rendimiento, ya que no nos aportan informacion valiosa\n",
    "    lexema = nlp.vocab[nopunct]\n",
    "    if lexema.is_stop == False:  \n",
    "        return [token.text for token in tok.tokenizer(nopunct)]"
   ]
  },
  {
   "cell_type": "code",
   "execution_count": 75,
   "metadata": {},
   "outputs": [],
   "source": [
    "#Utilizando la funcion anterior creamos la cuenta de las palabras iterando sobre la lista de criticas\n",
    "counts = Counter()\n",
    "for index, row in parsed_data.iterrows():\n",
    "    counts.update(tokenize(row['Review']))"
   ]
  },
  {
   "cell_type": "code",
   "execution_count": 76,
   "metadata": {},
   "outputs": [],
   "source": [
    "# # borramos las palabras poco utilizadas con el fin de reducir el vocabulario y mejorar las clases\n",
    "# print(\"num_words before:\",len(counts.keys()))\n",
    "# for word in list(counts):\n",
    "#     if counts[word] < 2:\n",
    "#         del counts[word]\n",
    "# print(\"num_words after:\",len(counts.keys()))\n",
    "# print(counts)"
   ]
  },
  {
   "cell_type": "code",
   "execution_count": 77,
   "metadata": {},
   "outputs": [],
   "source": [
    "# Creamos el vocabulario, si una palabra no existe se anade al UNK\n",
    "vocab2index = {\"\":0, \"UNK\":1}\n",
    "words = [\"\", \"UNK\"]\n",
    "for word in counts:\n",
    "    vocab2index[word] = len(words)\n",
    "    words.append(word)"
   ]
  },
  {
   "cell_type": "code",
   "execution_count": 78,
   "metadata": {},
   "outputs": [
    {
     "name": "stdout",
     "output_type": "stream",
     "text": [
      "                                              Review  Rating  Review_Length  \\\n",
      "0  nice hotel expensive parking got good deal sta...       4             87   \n",
      "1  ok nothing special charge diamond member hilto...       2            250   \n",
      "2  nice rooms not 4* experience hotel monaco seat...       3            217   \n",
      "3  unique, great stay, wonderful time hotel monac...       5             89   \n",
      "4  great stay great stay, went seahawk game aweso...       5            191   \n",
      "\n",
      "                                             encoded  \n",
      "0  [[2, 3, 4, 5, 6, 7, 8, 9, 3, 10, 11, 12, 13, 1...  \n",
      "1  [[79, 80, 81, 82, 83, 84, 85, 86, 87, 88, 78, ...  \n",
      "2  [[2, 235, 39, 77, 74, 3, 236, 90, 7, 3, 237, 2...  \n",
      "3  [[350, 11, 69, 9, 11, 351, 352, 3, 236, 11, 68...  \n",
      "4  [[69, 9, 69, 9, 11, 398, 399, 400, 401, 11, 40...  \n"
     ]
    }
   ],
   "source": [
    "# recibe el texto el vocabulario y un tamanio\n",
    "# el valor N se setea en 100 debido a un aproximado al promedio de palabras por critica\n",
    "# esta funcion se encarga de convertir cada palabra de la critica a su codificacion en el vocabulario, si no encuentra la palabra\n",
    "# la cambia por el valor que le corresponde a \"UNK\"\n",
    "def encode_sentence(text, vocab2index, N=100):\n",
    "    tokenized = tokenize(text)\n",
    "    encoded = np.zeros(N, dtype=int)\n",
    "    \n",
    "    # El get en diccionario permite definir un valor si un item no existe (\"UNK\").  \n",
    "    enc1 = np.array([vocab2index.get(word, vocab2index[\"UNK\"]) for word in tokenized])\n",
    "    \n",
    "    # Largo máximo del resultado.\n",
    "    length = min(N, len(enc1))\n",
    "    encoded[:length] = enc1[:length]\n",
    "    return encoded, length\n",
    "\n",
    "parsed_data['encoded'] = parsed_data['Review'].apply(lambda x: np.array(encode_sentence(x,vocab2index ), dtype=object))\n",
    "print(parsed_data.head())"
   ]
  },
  {
   "cell_type": "markdown",
   "metadata": {},
   "source": [
    "### 4. Estadisticas\n"
   ]
  },
  {
   "cell_type": "code",
   "execution_count": 79,
   "metadata": {},
   "outputs": [
    {
     "data": {
      "text/html": [
       "<div>\n",
       "<style scoped>\n",
       "    .dataframe tbody tr th:only-of-type {\n",
       "        vertical-align: middle;\n",
       "    }\n",
       "\n",
       "    .dataframe tbody tr th {\n",
       "        vertical-align: top;\n",
       "    }\n",
       "\n",
       "    .dataframe thead th {\n",
       "        text-align: right;\n",
       "    }\n",
       "</style>\n",
       "<table border=\"1\" class=\"dataframe\">\n",
       "  <thead>\n",
       "    <tr style=\"text-align: right;\">\n",
       "      <th></th>\n",
       "      <th>Review</th>\n",
       "      <th>Rating</th>\n",
       "      <th>Review_Length</th>\n",
       "      <th>encoded</th>\n",
       "    </tr>\n",
       "  </thead>\n",
       "  <tbody>\n",
       "    <tr>\n",
       "      <th>0</th>\n",
       "      <td>nice hotel expensive parking got good deal sta...</td>\n",
       "      <td>4</td>\n",
       "      <td>87</td>\n",
       "      <td>[[2, 3, 4, 5, 6, 7, 8, 9, 3, 10, 11, 12, 13, 1...</td>\n",
       "    </tr>\n",
       "    <tr>\n",
       "      <th>1</th>\n",
       "      <td>ok nothing special charge diamond member hilto...</td>\n",
       "      <td>2</td>\n",
       "      <td>250</td>\n",
       "      <td>[[79, 80, 81, 82, 83, 84, 85, 86, 87, 88, 78, ...</td>\n",
       "    </tr>\n",
       "    <tr>\n",
       "      <th>2</th>\n",
       "      <td>nice rooms not 4* experience hotel monaco seat...</td>\n",
       "      <td>3</td>\n",
       "      <td>217</td>\n",
       "      <td>[[2, 235, 39, 77, 74, 3, 236, 90, 7, 3, 237, 2...</td>\n",
       "    </tr>\n",
       "    <tr>\n",
       "      <th>3</th>\n",
       "      <td>unique, great stay, wonderful time hotel monac...</td>\n",
       "      <td>5</td>\n",
       "      <td>89</td>\n",
       "      <td>[[350, 11, 69, 9, 11, 351, 352, 3, 236, 11, 68...</td>\n",
       "    </tr>\n",
       "    <tr>\n",
       "      <th>4</th>\n",
       "      <td>great stay great stay, went seahawk game aweso...</td>\n",
       "      <td>5</td>\n",
       "      <td>191</td>\n",
       "      <td>[[69, 9, 69, 9, 11, 398, 399, 400, 401, 11, 40...</td>\n",
       "    </tr>\n",
       "    <tr>\n",
       "      <th>5</th>\n",
       "      <td>love monaco staff husband stayed hotel crazy w...</td>\n",
       "      <td>5</td>\n",
       "      <td>134</td>\n",
       "      <td>[[495, 236, 154, 496, 497, 3, 498, 260, 499, 5...</td>\n",
       "    </tr>\n",
       "    <tr>\n",
       "      <th>6</th>\n",
       "      <td>cozy stay rainy city, husband spent 7 nights m...</td>\n",
       "      <td>5</td>\n",
       "      <td>101</td>\n",
       "      <td>[[580, 9, 581, 427, 11, 496, 268, 78, 582, 236...</td>\n",
       "    </tr>\n",
       "    <tr>\n",
       "      <th>7</th>\n",
       "      <td>excellent staff, housekeeping quality hotel ch...</td>\n",
       "      <td>4</td>\n",
       "      <td>85</td>\n",
       "      <td>[[353, 154, 11, 207, 624, 3, 625, 154, 191, 39...</td>\n",
       "    </tr>\n",
       "    <tr>\n",
       "      <th>8</th>\n",
       "      <td>hotel stayed hotel monaco cruise, rooms genero...</td>\n",
       "      <td>5</td>\n",
       "      <td>59</td>\n",
       "      <td>[[3, 497, 3, 236, 655, 11, 235, 603, 517, 656,...</td>\n",
       "    </tr>\n",
       "    <tr>\n",
       "      <th>9</th>\n",
       "      <td>excellent stayed hotel monaco past w/e delight...</td>\n",
       "      <td>5</td>\n",
       "      <td>35</td>\n",
       "      <td>[[353, 497, 3, 236, 681, 267, 682, 683, 11, 53...</td>\n",
       "    </tr>\n",
       "  </tbody>\n",
       "</table>\n",
       "</div>"
      ],
      "text/plain": [
       "                                              Review  Rating  Review_Length  \\\n",
       "0  nice hotel expensive parking got good deal sta...       4             87   \n",
       "1  ok nothing special charge diamond member hilto...       2            250   \n",
       "2  nice rooms not 4* experience hotel monaco seat...       3            217   \n",
       "3  unique, great stay, wonderful time hotel monac...       5             89   \n",
       "4  great stay great stay, went seahawk game aweso...       5            191   \n",
       "5  love monaco staff husband stayed hotel crazy w...       5            134   \n",
       "6  cozy stay rainy city, husband spent 7 nights m...       5            101   \n",
       "7  excellent staff, housekeeping quality hotel ch...       4             85   \n",
       "8  hotel stayed hotel monaco cruise, rooms genero...       5             59   \n",
       "9  excellent stayed hotel monaco past w/e delight...       5             35   \n",
       "\n",
       "                                             encoded  \n",
       "0  [[2, 3, 4, 5, 6, 7, 8, 9, 3, 10, 11, 12, 13, 1...  \n",
       "1  [[79, 80, 81, 82, 83, 84, 85, 86, 87, 88, 78, ...  \n",
       "2  [[2, 235, 39, 77, 74, 3, 236, 90, 7, 3, 237, 2...  \n",
       "3  [[350, 11, 69, 9, 11, 351, 352, 3, 236, 11, 68...  \n",
       "4  [[69, 9, 69, 9, 11, 398, 399, 400, 401, 11, 40...  \n",
       "5  [[495, 236, 154, 496, 497, 3, 498, 260, 499, 5...  \n",
       "6  [[580, 9, 581, 427, 11, 496, 268, 78, 582, 236...  \n",
       "7  [[353, 154, 11, 207, 624, 3, 625, 154, 191, 39...  \n",
       "8  [[3, 497, 3, 236, 655, 11, 235, 603, 517, 656,...  \n",
       "9  [[353, 497, 3, 236, 681, 267, 682, 683, 11, 53...  "
      ]
     },
     "execution_count": 79,
     "metadata": {},
     "output_type": "execute_result"
    }
   ],
   "source": [
    "parsed_data['Review_Length'] = parsed_data['Review'].apply(lambda x: len(x.split()))\n",
    "parsed_data.head(10)"
   ]
  },
  {
   "cell_type": "code",
   "execution_count": 80,
   "metadata": {},
   "outputs": [
    {
     "data": {
      "text/html": [
       "<div>\n",
       "<style scoped>\n",
       "    .dataframe tbody tr th:only-of-type {\n",
       "        vertical-align: middle;\n",
       "    }\n",
       "\n",
       "    .dataframe tbody tr th {\n",
       "        vertical-align: top;\n",
       "    }\n",
       "\n",
       "    .dataframe thead th {\n",
       "        text-align: right;\n",
       "    }\n",
       "</style>\n",
       "<table border=\"1\" class=\"dataframe\">\n",
       "  <thead>\n",
       "    <tr style=\"text-align: right;\">\n",
       "      <th></th>\n",
       "      <th>Rating</th>\n",
       "      <th>Review_Length</th>\n",
       "    </tr>\n",
       "  </thead>\n",
       "  <tbody>\n",
       "    <tr>\n",
       "      <th>count</th>\n",
       "      <td>20491.00</td>\n",
       "      <td>20491.00</td>\n",
       "    </tr>\n",
       "    <tr>\n",
       "      <th>mean</th>\n",
       "      <td>3.95</td>\n",
       "      <td>104.38</td>\n",
       "    </tr>\n",
       "    <tr>\n",
       "      <th>std</th>\n",
       "      <td>1.23</td>\n",
       "      <td>100.66</td>\n",
       "    </tr>\n",
       "    <tr>\n",
       "      <th>min</th>\n",
       "      <td>1.00</td>\n",
       "      <td>7.00</td>\n",
       "    </tr>\n",
       "    <tr>\n",
       "      <th>25%</th>\n",
       "      <td>3.00</td>\n",
       "      <td>48.00</td>\n",
       "    </tr>\n",
       "    <tr>\n",
       "      <th>50%</th>\n",
       "      <td>4.00</td>\n",
       "      <td>77.00</td>\n",
       "    </tr>\n",
       "    <tr>\n",
       "      <th>75%</th>\n",
       "      <td>5.00</td>\n",
       "      <td>124.00</td>\n",
       "    </tr>\n",
       "    <tr>\n",
       "      <th>max</th>\n",
       "      <td>5.00</td>\n",
       "      <td>1931.00</td>\n",
       "    </tr>\n",
       "  </tbody>\n",
       "</table>\n",
       "</div>"
      ],
      "text/plain": [
       "        Rating  Review_Length\n",
       "count 20491.00       20491.00\n",
       "mean      3.95         104.38\n",
       "std       1.23         100.66\n",
       "min       1.00           7.00\n",
       "25%       3.00          48.00\n",
       "50%       4.00          77.00\n",
       "75%       5.00         124.00\n",
       "max       5.00        1931.00"
      ]
     },
     "execution_count": 80,
     "metadata": {},
     "output_type": "execute_result"
    }
   ],
   "source": [
    "pd.set_option('display.float_format', lambda x: '%.2f' % x)\n",
    "parsed_data.describe()"
   ]
  },
  {
   "cell_type": "code",
   "execution_count": 81,
   "metadata": {},
   "outputs": [
    {
     "data": {
      "text/html": [
       "<div>\n",
       "<style scoped>\n",
       "    .dataframe tbody tr th:only-of-type {\n",
       "        vertical-align: middle;\n",
       "    }\n",
       "\n",
       "    .dataframe tbody tr th {\n",
       "        vertical-align: top;\n",
       "    }\n",
       "\n",
       "    .dataframe thead th {\n",
       "        text-align: right;\n",
       "    }\n",
       "</style>\n",
       "<table border=\"1\" class=\"dataframe\">\n",
       "  <thead>\n",
       "    <tr style=\"text-align: right;\">\n",
       "      <th></th>\n",
       "      <th>Review</th>\n",
       "      <th>Rating</th>\n",
       "      <th>Review_Length</th>\n",
       "      <th>encoded</th>\n",
       "    </tr>\n",
       "  </thead>\n",
       "  <tbody>\n",
       "    <tr>\n",
       "      <th>0</th>\n",
       "      <td>nice hotel expensive parking got good deal sta...</td>\n",
       "      <td>3</td>\n",
       "      <td>87</td>\n",
       "      <td>[[2, 3, 4, 5, 6, 7, 8, 9, 3, 10, 11, 12, 13, 1...</td>\n",
       "    </tr>\n",
       "    <tr>\n",
       "      <th>1</th>\n",
       "      <td>ok nothing special charge diamond member hilto...</td>\n",
       "      <td>1</td>\n",
       "      <td>250</td>\n",
       "      <td>[[79, 80, 81, 82, 83, 84, 85, 86, 87, 88, 78, ...</td>\n",
       "    </tr>\n",
       "    <tr>\n",
       "      <th>2</th>\n",
       "      <td>nice rooms not 4* experience hotel monaco seat...</td>\n",
       "      <td>2</td>\n",
       "      <td>217</td>\n",
       "      <td>[[2, 235, 39, 77, 74, 3, 236, 90, 7, 3, 237, 2...</td>\n",
       "    </tr>\n",
       "    <tr>\n",
       "      <th>3</th>\n",
       "      <td>unique, great stay, wonderful time hotel monac...</td>\n",
       "      <td>4</td>\n",
       "      <td>89</td>\n",
       "      <td>[[350, 11, 69, 9, 11, 351, 352, 3, 236, 11, 68...</td>\n",
       "    </tr>\n",
       "    <tr>\n",
       "      <th>4</th>\n",
       "      <td>great stay great stay, went seahawk game aweso...</td>\n",
       "      <td>4</td>\n",
       "      <td>191</td>\n",
       "      <td>[[69, 9, 69, 9, 11, 398, 399, 400, 401, 11, 40...</td>\n",
       "    </tr>\n",
       "    <tr>\n",
       "      <th>5</th>\n",
       "      <td>love monaco staff husband stayed hotel crazy w...</td>\n",
       "      <td>4</td>\n",
       "      <td>134</td>\n",
       "      <td>[[495, 236, 154, 496, 497, 3, 498, 260, 499, 5...</td>\n",
       "    </tr>\n",
       "    <tr>\n",
       "      <th>6</th>\n",
       "      <td>cozy stay rainy city, husband spent 7 nights m...</td>\n",
       "      <td>4</td>\n",
       "      <td>101</td>\n",
       "      <td>[[580, 9, 581, 427, 11, 496, 268, 78, 582, 236...</td>\n",
       "    </tr>\n",
       "    <tr>\n",
       "      <th>7</th>\n",
       "      <td>excellent staff, housekeeping quality hotel ch...</td>\n",
       "      <td>3</td>\n",
       "      <td>85</td>\n",
       "      <td>[[353, 154, 11, 207, 624, 3, 625, 154, 191, 39...</td>\n",
       "    </tr>\n",
       "    <tr>\n",
       "      <th>8</th>\n",
       "      <td>hotel stayed hotel monaco cruise, rooms genero...</td>\n",
       "      <td>4</td>\n",
       "      <td>59</td>\n",
       "      <td>[[3, 497, 3, 236, 655, 11, 235, 603, 517, 656,...</td>\n",
       "    </tr>\n",
       "    <tr>\n",
       "      <th>9</th>\n",
       "      <td>excellent stayed hotel monaco past w/e delight...</td>\n",
       "      <td>4</td>\n",
       "      <td>35</td>\n",
       "      <td>[[353, 497, 3, 236, 681, 267, 682, 683, 11, 53...</td>\n",
       "    </tr>\n",
       "  </tbody>\n",
       "</table>\n",
       "</div>"
      ],
      "text/plain": [
       "                                              Review  Rating  Review_Length  \\\n",
       "0  nice hotel expensive parking got good deal sta...       3             87   \n",
       "1  ok nothing special charge diamond member hilto...       1            250   \n",
       "2  nice rooms not 4* experience hotel monaco seat...       2            217   \n",
       "3  unique, great stay, wonderful time hotel monac...       4             89   \n",
       "4  great stay great stay, went seahawk game aweso...       4            191   \n",
       "5  love monaco staff husband stayed hotel crazy w...       4            134   \n",
       "6  cozy stay rainy city, husband spent 7 nights m...       4            101   \n",
       "7  excellent staff, housekeeping quality hotel ch...       3             85   \n",
       "8  hotel stayed hotel monaco cruise, rooms genero...       4             59   \n",
       "9  excellent stayed hotel monaco past w/e delight...       4             35   \n",
       "\n",
       "                                             encoded  \n",
       "0  [[2, 3, 4, 5, 6, 7, 8, 9, 3, 10, 11, 12, 13, 1...  \n",
       "1  [[79, 80, 81, 82, 83, 84, 85, 86, 87, 88, 78, ...  \n",
       "2  [[2, 235, 39, 77, 74, 3, 236, 90, 7, 3, 237, 2...  \n",
       "3  [[350, 11, 69, 9, 11, 351, 352, 3, 236, 11, 68...  \n",
       "4  [[69, 9, 69, 9, 11, 398, 399, 400, 401, 11, 40...  \n",
       "5  [[495, 236, 154, 496, 497, 3, 498, 260, 499, 5...  \n",
       "6  [[580, 9, 581, 427, 11, 496, 268, 78, 582, 236...  \n",
       "7  [[353, 154, 11, 207, 624, 3, 625, 154, 191, 39...  \n",
       "8  [[3, 497, 3, 236, 655, 11, 235, 603, 517, 656,...  \n",
       "9  [[353, 497, 3, 236, 681, 267, 682, 683, 11, 53...  "
      ]
     },
     "execution_count": 81,
     "metadata": {},
     "output_type": "execute_result"
    }
   ],
   "source": [
    "# con esto podemos ordenar/ limpiar los datos para que sean mas facil trabajar \n",
    "parsed_data['Rating'].replace({1: 0, 2: 1, 3: 2, 4: 3, 5: 4}, inplace=True)\n",
    "parsed_data.head(10)"
   ]
  },
  {
   "cell_type": "code",
   "execution_count": 82,
   "metadata": {},
   "outputs": [
    {
     "data": {
      "text/plain": [
       "Counter({3: 6039, 1: 1793, 2: 2184, 4: 9054, 0: 1421})"
      ]
     },
     "execution_count": 82,
     "metadata": {},
     "output_type": "execute_result"
    }
   ],
   "source": [
    "# Revisamos las clases basados en el valor del rating\n",
    "Counter(parsed_data['Rating'])\n",
    "\n",
    "# las clases se encuentran medianamente desbalanceada en especial la clase 4, una posible idea que puede mejorar\n",
    "# el la precision puede ser combinar la clase 0 1 2 en este caso especifico"
   ]
  },
  {
   "cell_type": "markdown",
   "metadata": {},
   "source": [
    "### 5. Definicion de la red recurrente LSTM\n",
    "\n"
   ]
  },
  {
   "cell_type": "code",
   "execution_count": 100,
   "metadata": {},
   "outputs": [],
   "source": [
    "#Se crea la clase que se va a encargar de la magia \n",
    "class LSTM(torch.nn.Module) :\n",
    "    \"\"\"\n",
    "    Inicialización de la clase.\n",
    "    Parámetros:\n",
    "        embedding_dim: dimesionalidad del vector de palabras. \n",
    "        hidden_dim: dimensión de la capa oculta de la red. \n",
    "        vocab_size: tamaño del vocabulario.  \n",
    "        tagset_size: número de clases.\n",
    "    \"\"\"\n",
    "    def __init__(self, vocab_size, embedding_dim, hidden_dim, tagset_size=5) :\n",
    "        super().__init__()\n",
    "\n",
    "        self.embeddings = nn.Embedding(vocab_size, embedding_dim, padding_idx=0)\n",
    "        self.lstm = nn.LSTM(embedding_dim, hidden_dim, batch_first=True)\n",
    "        self.linear = nn.Linear(hidden_dim, tagset_size)\n",
    "\n",
    "        self.dropout = nn.Dropout(0.2)\n",
    "    \n",
    "    \n",
    "        \n",
    "    def forward(self, x, l):\n",
    "        x = self.embeddings(x)\n",
    "        x = self.dropout(x)\n",
    "        lstm_out, (ht, ct) = self.lstm(x)\n",
    "        return self.linear(ht[-1])"
   ]
  },
  {
   "cell_type": "code",
   "execution_count": 93,
   "metadata": {},
   "outputs": [],
   "source": [
    "def validation_metrics (model, valid_dl):\n",
    "    model.eval()\n",
    "    correct = 0\n",
    "    total = 0\n",
    "    sum_loss = 0.0\n",
    "    sum_rmse = 0.0\n",
    "    for x, y, l in valid_dl:\n",
    "        x = x.long()\n",
    "        y = y.long()\n",
    "        y_hat = model(x, l)\n",
    "        #loss = nn.CrossEntropyLoss(y_hat,y)\n",
    "        #loss = torch.nn.en.cross_entropy(y_hat, y)\n",
    "        loss = torch.nn.functional.cross_entropy(y_hat,y)\n",
    "        pred = torch.max(y_hat, 1)[1]\n",
    "        correct += (pred == y).float().sum()\n",
    "        total += y.shape[0]\n",
    "        sum_loss += loss.item()*y.shape[0]\n",
    "        sum_rmse += np.sqrt(mean_squared_error(pred, y.unsqueeze(-1)))*y.shape[0]\n",
    "    return sum_loss/total, correct/total, sum_rmse/total\n",
    "\n",
    "# Funcion se encarga de por cada epoch entrenar el modelo\n",
    "def train_model(model, epochs=10, lr=0.001):\n",
    "    parameters = filter(lambda p: p.requires_grad, model.parameters())\n",
    "    # se intenta reducir el margen de error\n",
    "    # con el algoritmo de Adam que ha demostrado ser muy efectivo en NLP\n",
    "    optimizer = torch.optim.Adam(parameters, lr=lr)\n",
    "    \n",
    "    for i in range(epochs):\n",
    "        model.train()\n",
    "        sum_loss = 0.0\n",
    "        total = 0\n",
    "        for x, y, l in train_dl:\n",
    "            x = x.long()\n",
    "            y = y.long()\n",
    "            y_pred = model(x, l)\n",
    "            optimizer.zero_grad()\n",
    "            loss = torch.nn.functional.cross_entropy(y_pred, y)\n",
    "            loss.backward()\n",
    "            optimizer.step()\n",
    "            sum_loss += loss.item()*y.shape[0]\n",
    "            total += y.shape[0]\n",
    "        val_loss, val_acc, val_rmse = validation_metrics(model, validation_dl)\n",
    "        if i % 5 == 1:\n",
    "            print(\"train loss %.3f, val loss %.3f, val accuracy %.3f, and val rmse %.3f\" % (sum_loss/total, val_loss, val_acc, val_rmse))\n"
   ]
  },
  {
   "cell_type": "markdown",
   "metadata": {},
   "source": [
    "### Hiper-parametros"
   ]
  },
  {
   "cell_type": "code",
   "execution_count": 97,
   "metadata": {},
   "outputs": [],
   "source": [
    "epochs = 10\n",
    "batch_size = 5000\n",
    "vocab_size = len(words)\n"
   ]
  },
  {
   "cell_type": "markdown",
   "metadata": {},
   "source": [
    "### Separacion de las muestras y entrenamiento\n"
   ]
  },
  {
   "cell_type": "code",
   "execution_count": 86,
   "metadata": {},
   "outputs": [],
   "source": [
    "# Creamos el conjunto de datos que se van a cargar  a la red \n",
    "class Dataset(Dataset):\n",
    "    def __init__(self, X, Y):\n",
    "        self.X = X\n",
    "        self.y = Y\n",
    "    #Hacemos el override de los metodos de la clase padre\n",
    "    def __len__(self):\n",
    "        return len(self.y)\n",
    "    #Hacemos el override de los metodos de la clase padre\n",
    "    def __getitem__(self, idx):\n",
    "        return torch.from_numpy(self.X[idx][0].astype(np.int32)), self.y[idx], self.X[idx][1]"
   ]
  },
  {
   "cell_type": "code",
   "execution_count": 87,
   "metadata": {},
   "outputs": [],
   "source": [
    "# los arreglos con la data codificada y el rating\n",
    "X = list(parsed_data['encoded'])\n",
    "y = list(parsed_data['Rating'])\n",
    "\n",
    "#70% de la data como datos de entrenamiento y 30% como datos de prueba\n",
    "X_train, X_valid, y_train, y_valid = train_test_split(X, y, test_size=0.3)\n",
    "\n",
    "# Creación de los datasets de entrenamiento y validación\n",
    "train_ds = Dataset(X_train, y_train)\n",
    "valid_ds = Dataset(X_valid, y_valid)\n",
    "# Creacion de los dataLoaders \n",
    "train_dl = DataLoader(train_ds, batch_size=batch_size, shuffle=True)\n",
    "validation_dl = DataLoader(valid_ds, batch_size=batch_size)"
   ]
  },
  {
   "cell_type": "code",
   "execution_count": 98,
   "metadata": {},
   "outputs": [
    {
     "name": "stdout",
     "output_type": "stream",
     "text": [
      "train loss 1.404, val loss 1.357, val accuracy 0.439, and val rmse 1.594\n",
      "train loss 1.324, val loss 1.360, val accuracy 0.435, and val rmse 1.563\n"
     ]
    }
   ],
   "source": [
    "# creamos el modelo\n",
    "\n",
    "embebbed = 50\n",
    "hidden = 50\n",
    "learning_rate=0.01\n",
    "clases = 5\n",
    "model = LSTM(vocab_size=vocab_size,\n",
    "            embedding_dim=embebbed,\n",
    "            hidden_dim=hidden,\n",
    "            tagset_size=5\n",
    ")\n",
    "\n",
    "train_model(model,\n",
    "            epochs=epochs,\n",
    "            lr=learning_rate\n",
    "            )"
   ]
  },
  {
   "cell_type": "code",
   "execution_count": 99,
   "metadata": {},
   "outputs": [
    {
     "name": "stdout",
     "output_type": "stream",
     "text": [
      "Exactitud tensor(0.4253)\n",
      "Raíz del error cuadrático medio 1.5163030836523577\n"
     ]
    }
   ],
   "source": [
    "# Validación del modelo \n",
    "average_loss, accuracy, average_rmse = validation_metrics (model, validation_dl)\n",
    "\n",
    "print (\"Exactitud\", accuracy)\n",
    "print(\"Raíz del error cuadrático medio\", average_rmse)"
   ]
  },
  {
   "cell_type": "markdown",
   "metadata": {},
   "source": [
    "### 8. Grafica de la curva de error"
   ]
  },
  {
   "cell_type": "code",
   "execution_count": null,
   "metadata": {},
   "outputs": [],
   "source": []
  },
  {
   "cell_type": "markdown",
   "metadata": {},
   "source": [
    "### 9. Matriz de confusion\n"
   ]
  },
  {
   "cell_type": "code",
   "execution_count": null,
   "metadata": {},
   "outputs": [],
   "source": []
  },
  {
   "cell_type": "markdown",
   "metadata": {},
   "source": [
    "### 10. Analisis de resultado"
   ]
  },
  {
   "cell_type": "markdown",
   "metadata": {},
   "source": [
    "Podemos ver que la exactitud del tensor sin ningun cambio es alrededor del 52% \n",
    "y el error cuadratico medio 0.9333%\n",
    "\n",
    "- Por lo tanto una mejora posible es unificar las clases puesto que no estan del todo balanceadas, unificar la clase 0 ,1 ,2 en una sola quedando en tres unicas clases (2,3,4)\n",
    "- Aplicar stemming a las palabras puede mejorar el resultado ya que reduce el vocabulario por estudiar"
   ]
  },
  {
   "cell_type": "markdown",
   "metadata": {},
   "source": [
    "### 11. Conclusiones\n",
    "- Un buen manejo de las clases permite que sea mas exacto que el algoritmo no falle en dar el veredicto, es decir los datos de las clases deben de estar nivelados esto con el fin de que el algoritmo\n",
    "de la respuesta correcta, y si da error este se denote como error.\n",
    "\n",
    "- Manejar analisis de sentimiento asi como muchas otras redes recurrentes, no es el del todo facil, mucho de lo que se trabaja se maneja de manera heuristica, ya que no hay una formula exacta para modelar la realidad, es por esto que es necesaria la practica y el ensayo en estas pruebas.\n",
    "\n",
    "- Un buen manejo del corpus puede mejorar el rendimiento asi como una buena normalizacion de los datos puede prevenir que el algoritmo tome informacion innesesaria, lo que puede provocar que el algoritmo se entrene de manera incorrecta por un lado asi como un gasto en rendimiento.\n",
    "\n",
    "- El analisis de sentimiento nos permite de manera eficiente miles o millones de datos de manera rapida, hecho que a mano resulta muy lento o hasta imposible.\n"
   ]
  },
  {
   "cell_type": "markdown",
   "metadata": {},
   "source": []
  }
 ],
 "metadata": {
  "interpreter": {
   "hash": "e633077af414fdf686fe4a7bef3e09f63f225aaaff348052fbc34a76ef21ca4e"
  },
  "kernelspec": {
   "display_name": "Python 3.10.2 ('venv': venv)",
   "language": "python",
   "name": "python3"
  },
  "language_info": {
   "codemirror_mode": {
    "name": "ipython",
    "version": 3
   },
   "file_extension": ".py",
   "mimetype": "text/x-python",
   "name": "python",
   "nbconvert_exporter": "python",
   "pygments_lexer": "ipython3",
   "version": "3.10.2"
  },
  "orig_nbformat": 4
 },
 "nbformat": 4,
 "nbformat_minor": 2
}
